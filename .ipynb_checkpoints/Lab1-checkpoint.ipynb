{
 "cells": [
  {
   "cell_type": "code",
   "execution_count": 1,
   "metadata": {},
   "outputs": [],
   "source": [
    "#Линейнай регрессия\n",
    "import numpy as np  \n",
    "\n",
    "from mpl_toolkits.mplot3d import Axes3D\n"
   ]
  },
  {
   "cell_type": "code",
   "execution_count": 6,
   "metadata": {},
   "outputs": [
    {
     "ename": "NameError",
     "evalue": "name 'data' is not defined",
     "output_type": "error",
     "traceback": [
      "\u001b[0;31m---------------------------------------------------------------------------\u001b[0m",
      "\u001b[0;31mNameError\u001b[0m                                 Traceback (most recent call last)",
      "\u001b[0;32m<ipython-input-6-47d19a5643f8>\u001b[0m in \u001b[0;36m<module>\u001b[0;34m()\u001b[0m\n\u001b[1;32m     10\u001b[0m \u001b[0mxnp\u001b[0m \u001b[0;34m=\u001b[0m \u001b[0mnp\u001b[0m\u001b[0;34m.\u001b[0m\u001b[0marray\u001b[0m\u001b[0;34m(\u001b[0m\u001b[0mx\u001b[0m\u001b[0;34m,\u001b[0m \u001b[0mfloat\u001b[0m\u001b[0;34m)\u001b[0m\u001b[0;34m\u001b[0m\u001b[0;34m\u001b[0m\u001b[0m\n\u001b[1;32m     11\u001b[0m \u001b[0mynp\u001b[0m \u001b[0;34m=\u001b[0m \u001b[0mnp\u001b[0m\u001b[0;34m.\u001b[0m\u001b[0marray\u001b[0m\u001b[0;34m(\u001b[0m\u001b[0my\u001b[0m\u001b[0;34m,\u001b[0m \u001b[0mfloat\u001b[0m\u001b[0;34m)\u001b[0m\u001b[0;34m\u001b[0m\u001b[0;34m\u001b[0m\u001b[0m\n\u001b[0;32m---> 12\u001b[0;31m \u001b[0mdatanp\u001b[0m \u001b[0;34m=\u001b[0m \u001b[0mnp\u001b[0m\u001b[0;34m.\u001b[0m\u001b[0marray\u001b[0m\u001b[0;34m(\u001b[0m\u001b[0mdata\u001b[0m\u001b[0;34m)\u001b[0m\u001b[0;34m\u001b[0m\u001b[0;34m\u001b[0m\u001b[0m\n\u001b[0m",
      "\u001b[0;31mNameError\u001b[0m: name 'data' is not defined"
     ]
    }
   ],
   "source": [
    "x = []\n",
    "y = []\n",
    "handle = open(\"data1.txt\", \"r\")\n",
    "\n",
    "for line in handle:\n",
    "    x.append(line.split(',')[0])\n",
    "    y.append(line.split(',')[1])\n",
    "handle.close()\n",
    "\n",
    "xnp = np.array(x, float)\n",
    "ynp = np.array(y, float)"
   ]
  },
  {
   "cell_type": "code",
   "execution_count": 7,
   "metadata": {},
   "outputs": [
    {
     "data": {
      "image/png": "[encoded data removed]",
      "text/plain": [
       "<Figure size 432x288 with 1 Axes>"
      ]
     },
     "metadata": {
      "needs_background": "light"
     },
     "output_type": "display_data"
    }
   ],
   "source": [
    "plt.plot(xnp, ynp, 'ro')\n",
    "plt.axis([xnp.min() - xnp.min()*0.1, xnp.max() + xnp.max()*0.1, ynp.min() - ynp.min()*0.1, ynp.max()+ ynp.max()*0.1])\n",
    "plt.show()"
   ]
  },
  {
   "cell_type": "code",
   "execution_count": 8,
   "metadata": {},
   "outputs": [],
   "source": [
    "def straight (Q0, Q1, X): \n",
    "    return Q0+Q1*X;\n",
    "\n",
    "def dQ0(Qf0, Qf1, X, Y):\n",
    "    sum = 0;\n",
    "    for i in range(X.size):\n",
    "        sum = sum + straight(Qf0, Qf1, X[i]) - Y[i]\n",
    "        \n",
    "    return (2*sum/X.size)\n",
    "            \n",
    "def dQ1(Qf0, Qf1, X, Y):\n",
    "    sum = 0;\n",
    "    for i in range(X.size):\n",
    "        sum = sum + (straight(Qf0, Qf1, X[i]) - Y[i])*X[i]\n",
    "        \n",
    "    return (2*sum/X.size)"
   ]
  },
  {
   "cell_type": "code",
   "execution_count": 9,
   "metadata": {},
   "outputs": [
    {
     "name": "stdout",
     "output_type": "stream",
     "text": [
      "-3.878137690865592\n",
      "1.191261194638165\n"
     ]
    }
   ],
   "source": [
    "numberIterations = 1500\n",
    "alpha = 0.01 #[0.001;0.1]\n",
    "Q0 = 0; Q1 = 0;\n",
    "tmp0 = 0; tmp1 = 0;\n",
    "m = xnp.size; \n",
    "Qm0 = []\n",
    "Qm1 = []\n",
    "\n",
    "Fj = np.array([], float)\n",
    "\n",
    "\n",
    "for i in range (numberIterations):\n",
    "    tmp0 = Q0 - alpha * dQ0(Q0, Q1, xnp, ynp)\n",
    "    tmp1 = Q1 - alpha * dQ1(Q0, Q1, xnp, ynp)\n",
    "    Qm0.append(tmp0)\n",
    "    Qm1.append(tmp1)\n",
    "    Q0 = tmp0;\n",
    "    Q1 = tmp1;\n",
    "    \n",
    "\n",
    "Qm0 = np.array(Qm0,float);\n",
    "Qm1 = np.array(Qm1,float);\n",
    "\n",
    "print (Q0)\n",
    "print (Q1)"
   ]
  },
  {
   "cell_type": "code",
   "execution_count": 10,
   "metadata": {},
   "outputs": [
    {
     "data": {
      "image/png": "[encoded data removed]",
      "text/plain": [
       "<Figure size 432x288 with 1 Axes>"
      ]
     },
     "metadata": {
      "needs_background": "light"
     },
     "output_type": "display_data"
    }
   ],
   "source": [
    "plt.plot(xnp, ynp, 'ro')\n",
    "plt.plot(xnp, straight (Q0, Q1, xnp))\n",
    "plt.axis([xnp.min() - xnp.min()*0.1, xnp.max() + xnp.max()*0.1, ynp.min() - ynp.min()*0.1, ynp.max()+ ynp.max()*0.1])\n",
    "plt.show()"
   ]
  },
  {
   "cell_type": "code",
   "execution_count": 11,
   "metadata": {},
   "outputs": [],
   "source": [
    "def funcError(Qf0, Qf1, X, Y):\n",
    "    sum = 0;\n",
    "    for i in range(X.size):\n",
    "        sum = sum + (Qf0 + Qf1*X[i] - Y[i])**2;\n",
    "    return 1*sum/X.size;"
   ]
  },
  {
   "cell_type": "code",
   "execution_count": 12,
   "metadata": {},
   "outputs": [],
   "source": [
    "def valusFuncError(Qm0, Qm1, X, Y):\n",
    "    J = []\n",
    "    for Q0 in Qm0:\n",
    "        for Q1 in Qm1:\n",
    "            J.append(funcError(Q0, Q1, X, Y))\n",
    "    return np.array(J, float);"
   ]
  },
  {
   "cell_type": "code",
   "execution_count": 13,
   "metadata": {},
   "outputs": [],
   "source": [
    "\n",
    "J = valusFuncError(Qm0, Qm1, xnp, ynp);\n"
   ]
  },
  {
   "cell_type": "code",
   "execution_count": 1,
   "metadata": {},
   "outputs": [
    {
     "ename": "NameError",
     "evalue": "name 'plt' is not defined",
     "output_type": "error",
     "traceback": [
      "\u001b[0;31m---------------------------------------------------------------------------\u001b[0m",
      "\u001b[0;31mNameError\u001b[0m                                 Traceback (most recent call last)",
      "\u001b[0;32m<ipython-input-1-79eb2465a889>\u001b[0m in \u001b[0;36m<module>\u001b[0;34m()\u001b[0m\n\u001b[0;32m----> 1\u001b[0;31m \u001b[0mfig\u001b[0m \u001b[0;34m=\u001b[0m \u001b[0mplt\u001b[0m\u001b[0;34m.\u001b[0m\u001b[0mfigure\u001b[0m\u001b[0;34m(\u001b[0m\u001b[0;34m)\u001b[0m\u001b[0;34m\u001b[0m\u001b[0;34m\u001b[0m\u001b[0m\n\u001b[0m\u001b[1;32m      2\u001b[0m \u001b[0;34m\u001b[0m\u001b[0m\n\u001b[1;32m      3\u001b[0m \u001b[0max\u001b[0m \u001b[0;34m=\u001b[0m \u001b[0mfig\u001b[0m\u001b[0;34m.\u001b[0m\u001b[0madd_subplot\u001b[0m\u001b[0;34m(\u001b[0m\u001b[0;36m800\u001b[0m\u001b[0;34m,\u001b[0m \u001b[0mprojection\u001b[0m\u001b[0;34m=\u001b[0m\u001b[0;34m'3d'\u001b[0m\u001b[0;34m)\u001b[0m\u001b[0;34m\u001b[0m\u001b[0;34m\u001b[0m\u001b[0m\n\u001b[1;32m      4\u001b[0m \u001b[0;34m\u001b[0m\u001b[0m\n\u001b[1;32m      5\u001b[0m \u001b[0max\u001b[0m\u001b[0;34m.\u001b[0m\u001b[0mplot_trisurf\u001b[0m\u001b[0;34m(\u001b[0m\u001b[0mQm0\u001b[0m\u001b[0;34m,\u001b[0m \u001b[0mQm1\u001b[0m\u001b[0;34m,\u001b[0m \u001b[0mJ\u001b[0m\u001b[0;34m,\u001b[0m \u001b[0mlinewidth\u001b[0m\u001b[0;34m=\u001b[0m\u001b[0;36m0\u001b[0m\u001b[0;34m,\u001b[0m \u001b[0mantialiased\u001b[0m\u001b[0;34m=\u001b[0m\u001b[0mFalse\u001b[0m\u001b[0;34m)\u001b[0m\u001b[0;34m\u001b[0m\u001b[0;34m\u001b[0m\u001b[0m\n",
      "\u001b[0;31mNameError\u001b[0m: name 'plt' is not defined"
     ]
    }
   ],
   "source": [
    "fig = plt.figure()\n",
    "\n",
    "ax = fig.add_subplot(800, projection='3d')\n",
    "\n",
    "ax.plot_trisurf(Qm0, Qm1, J, linewidth=0, antialiased=False)\n",
    "\n",
    "ax.set_xlabel('Q0 Label')\n",
    "ax.set_ylabel('Q1 Label')\n",
    "ax.set_zlabel('J Label')\n",
    "\n",
    "plt.show()\n"
   ]
  },
  {
   "cell_type": "code",
   "execution_count": null,
   "metadata": {},
   "outputs": [],
   "source": []
  },
  {
   "cell_type": "code",
   "execution_count": null,
   "metadata": {},
   "outputs": [],
   "source": []
  },
  {
   "cell_type": "code",
   "execution_count": null,
   "metadata": {},
   "outputs": [],
   "source": []
  }
 ],
 "metadata": {
  "kernelspec": {
   "display_name": "Python 3",
   "language": "python",
   "name": "python3"
  },
  "language_info": {
   "codemirror_mode": {
    "name": "ipython",
    "version": 2
   },
   "file_extension": ".py",
   "mimetype": "text/x-python",
   "name": "python",
   "nbconvert_exporter": "python",
   "pygments_lexer": "ipython2",
   "version": "2.7.15+"
  }
 },
 "nbformat": 4,
 "nbformat_minor": 2
}
